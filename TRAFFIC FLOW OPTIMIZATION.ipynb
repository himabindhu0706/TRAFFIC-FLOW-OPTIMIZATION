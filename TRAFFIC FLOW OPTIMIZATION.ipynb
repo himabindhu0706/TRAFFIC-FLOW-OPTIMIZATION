{
 "cells": [
  {
   "cell_type": "code",
   "execution_count": null,
   "id": "2f2d0067",
   "metadata": {},
   "outputs": [],
   "source": []
  },
  {
   "cell_type": "code",
   "execution_count": 1,
   "id": "0c8b5ef8",
   "metadata": {},
   "outputs": [
    {
     "name": "stdout",
     "output_type": "stream",
     "text": [
      "Traffic Flow Optimization:\n",
      "Direction  Vehicles_Per_Minute  Green_Light_Seconds\n",
      "    North                   30                 18.0\n",
      "    South                   25                 15.0\n",
      "     West                   25                 15.0\n",
      "     East                   20                 12.0\n"
     ]
    }
   ],
   "source": [
    "import pandas as pd\n",
    "\n",
    "# Sample data: traffic volume (vehicles per minute) at 4-way intersection\n",
    "data = {\n",
    "    \"Direction\": [\"North\", \"South\", \"East\", \"West\"],\n",
    "    \"Vehicles_Per_Minute\": [30, 25, 20, 25]\n",
    "}\n",
    "\n",
    "# Create DataFrame\n",
    "df = pd.DataFrame(data)\n",
    "\n",
    "# Total vehicles per minute\n",
    "total_vehicles = df[\"Vehicles_Per_Minute\"].sum()\n",
    "\n",
    "# Calculate green light time (based on vehicle flow ratio)\n",
    "df[\"Green_Light_Seconds\"] = df[\"Vehicles_Per_Minute\"] / total_vehicles * 60\n",
    "\n",
    "# Sort directions by traffic volume (optional)\n",
    "df_sorted = df.sort_values(by=\"Vehicles_Per_Minute\", ascending=False)\n",
    "\n",
    "# Print Traffic Flow Optimization\n",
    "print(\"Traffic Flow Optimization:\")\n",
    "print(df_sorted.to_string(index=False))\n"
   ]
  }
 ],
 "metadata": {
  "kernelspec": {
   "display_name": "Python 3",
   "language": "python",
   "name": "python3"
  },
  "language_info": {
   "codemirror_mode": {
    "name": "ipython",
    "version": 3
   },
   "file_extension": ".py",
   "mimetype": "text/x-python",
   "name": "python",
   "nbconvert_exporter": "python",
   "pygments_lexer": "ipython3",
   "version": "3.13.1"
  }
 },
 "nbformat": 4,
 "nbformat_minor": 5
}
